{
 "cells": [
  {
   "cell_type": "markdown",
   "metadata": {},
   "source": [
    "# Load, parse and split data"
   ]
  },
  {
   "cell_type": "code",
   "execution_count": 2,
   "metadata": {},
   "outputs": [
    {
     "output_type": "error",
     "ename": "ModuleNotFoundError",
     "evalue": "No module named 'keras'",
     "traceback": [
      "\u001b[1;31m---------------------------------------------------------------------------\u001b[0m",
      "\u001b[1;31mModuleNotFoundError\u001b[0m                       Traceback (most recent call last)",
      "\u001b[1;32m<ipython-input-2-90916b566c27>\u001b[0m in \u001b[0;36m<module>\u001b[1;34m\u001b[0m\n\u001b[0;32m      4\u001b[0m \u001b[1;32mfrom\u001b[0m \u001b[0mpreprocessing\u001b[0m\u001b[1;33m.\u001b[0m\u001b[0mdataParsing\u001b[0m \u001b[1;32mimport\u001b[0m \u001b[0mparseData\u001b[0m\u001b[1;33m\u001b[0m\u001b[1;33m\u001b[0m\u001b[0m\n\u001b[0;32m      5\u001b[0m \u001b[1;32mfrom\u001b[0m \u001b[0mpreprocessing\u001b[0m\u001b[1;33m.\u001b[0m\u001b[0mdataSplitting\u001b[0m \u001b[1;32mimport\u001b[0m \u001b[0mdataSplitter\u001b[0m\u001b[1;33m\u001b[0m\u001b[1;33m\u001b[0m\u001b[0m\n\u001b[1;32m----> 6\u001b[1;33m \u001b[1;32mfrom\u001b[0m \u001b[0mkeras\u001b[0m\u001b[1;33m.\u001b[0m\u001b[0mpreprocessing\u001b[0m\u001b[1;33m.\u001b[0m\u001b[0msequence\u001b[0m \u001b[1;32mimport\u001b[0m \u001b[0mpad_sequences\u001b[0m\u001b[1;33m\u001b[0m\u001b[1;33m\u001b[0m\u001b[0m\n\u001b[0m\u001b[0;32m      7\u001b[0m \u001b[1;32mfrom\u001b[0m \u001b[0msklearn\u001b[0m\u001b[1;33m.\u001b[0m\u001b[0mpreprocessing\u001b[0m \u001b[1;32mimport\u001b[0m \u001b[0mOneHotEncoder\u001b[0m\u001b[1;33m,\u001b[0m \u001b[0mMinMaxScaler\u001b[0m\u001b[1;33m\u001b[0m\u001b[1;33m\u001b[0m\u001b[0m\n\u001b[0;32m      8\u001b[0m \u001b[1;32mfrom\u001b[0m \u001b[0mmath\u001b[0m \u001b[1;32mimport\u001b[0m \u001b[0mceil\u001b[0m\u001b[1;33m\u001b[0m\u001b[1;33m\u001b[0m\u001b[0m\n",
      "\u001b[1;31mModuleNotFoundError\u001b[0m: No module named 'keras'"
     ]
    }
   ],
   "source": [
    "import pandas as pd\n",
    "import numpy as np\n",
    "from training.predictionAlgo import naiveNextEventPredictor, naiveTimeToNextEventPredictor\n",
    "from preprocessing.dataParsing import parseData\n",
    "from preprocessing.dataSplitting import dataSplitter\n",
    "from keras.preprocessing.sequence import pad_sequences\n",
    "from sklearn.preprocessing import OneHotEncoder, MinMaxScaler\n",
    "from math import ceil\n",
    "\n",
    "# Convert csv into dataframe\n",
    "df_training_raw = pd.read_csv('.\\data\\BPI2012Training.csv')\n",
    "df_test_raw = pd.read_csv('.\\data\\BPI2012Test.csv')\n",
    "\n",
    "# Parsing data\n",
    "(df_training, df_2012_last_event_per_case_train) = parseData(df_training_raw)\n",
    "(df_test, df_2012_last_event_per_case_test) = parseData(df_test_raw)\n",
    "\n",
    "# Clean and split the data into train, validation & test data\n",
    "(df_training, df_validation, df_test) = dataSplitter(df_training, df_test)"
   ]
  },
  {
   "cell_type": "markdown",
   "metadata": {},
   "source": [
    "# Prepare input of lstm for event prediction"
   ]
  },
  {
   "cell_type": "code",
   "execution_count": 28,
   "metadata": {},
   "outputs": [],
   "source": [
    "def eventInputLstm(df, core_features: list, extra_features: list, scaler_encoder: list, window_size: int):\n",
    "    '''\n",
    "    args:\n",
    "    df <class: 'pd.DataFrame'>: Dataframe of interest, filled with the features of arguments.\n",
    "    core_features <class: 'list'>: Column names of the core features in format of [case id, current event, next event].\n",
    "    extra_features <class: 'list'>: Extra features that the user wishes to train on, can be given in any sequences.\n",
    "    scaler_encoder <class: 'list' of 'sklearn.preprocessing.MinMaxScaler' or klearn.preprocessing.OneHotEncoder>: \n",
    "    Trained scaler or encoder associated with the input features by their index that is used to normalise float or int features and encode categorical features.\n",
    "    window_size <class: 'int'>: Window size of lstm input.\n",
    "    \n",
    "    returns:\n",
    "    x_arr <'np.array'>: LSTM input in format [samples, timestep, features].\n",
    "    y_arr <'np.array'>: LSTM input in format [samples, features].\n",
    "    '''\n",
    "    case_id_col = core_features[0]\n",
    "    event_id_col = core_features[1]\n",
    "    y_output_col = core_features[2]\n",
    "    \n",
    "    scaler_encoder_copy = scaler_encoder.copy()\n",
    "    \n",
    "    encoder_events = scaler_encoder_copy.pop(0)\n",
    "    \n",
    "    # Prevent modifying argument\n",
    "    relevant_columns = core_features.copy()\n",
    "    try:\n",
    "        relevant_columns.extend(extra_features)\n",
    "    except:\n",
    "        print('Please input valid features.')\n",
    "    \n",
    "    df_relevant = df[relevant_columns].copy()\n",
    "\n",
    "    # One-hot encode current and next event\n",
    "    current_event = df_relevant[event_id_col].to_numpy().reshape(-1, 1)\n",
    "    df_relevant[event_id_col] = encoder_events.transform(current_event).tolist()\n",
    "\n",
    "    next_event = df_relevant[y_output_col].to_numpy().reshape(-1, 1)\n",
    "    df_relevant[y_output_col] = encoder_events.transform(next_event).tolist()\n",
    "    \n",
    "    # Normalise extra features that are ints or floats\n",
    "    for idx, scaler in enumerate(scaler_encoder_copy):\n",
    "        if scaler != 0:\n",
    "            to_be_normalised = df_relevant[extra_features[idx]].to_numpy().reshape(-1, 1)\n",
    "            df_relevant[extra_features[idx]] = scaler.transform(to_be_normalised)\n",
    "\n",
    "    # Prepare input and output in form of [samples, features]\n",
    "    x = []\n",
    "    y = []\n",
    "\n",
    "    # Get groupby object df by case id\n",
    "    df_groupby_case_id = df_relevant.groupby(case_id_col)\n",
    "\n",
    "    # Unique case ids\n",
    "    unique_case_ids = df_relevant[case_id_col].unique().tolist()\n",
    "\n",
    "    # Find input and output vector in form of [samples, features]\n",
    "    for unique_id in unique_case_ids:\n",
    "        columns_relevant = [event_id_col, y_output_col].copy()\n",
    "        columns_relevant.extend(extra_features)\n",
    "        xy_unique_id = df_groupby_case_id.get_group(unique_id)[columns_relevant].values.tolist()\n",
    "        sequence_x_unique_id = []\n",
    "\n",
    "        # event[0] = current event, event[1] = next event, event[2] = first selected feature, event[3] = second selected feature,...\n",
    "        for idx, event in enumerate(xy_unique_id):\n",
    "            if len(sequence_x_unique_id) == window_size:\n",
    "                del sequence_x_unique_id[0]\n",
    "\n",
    "            event_memory = event[0].copy()\n",
    "            event_memory.extend(event[2:])\n",
    "            sequence_x_unique_id.append(event_memory.copy())\n",
    "            x.append(sequence_x_unique_id.copy())\n",
    "            y.append(event[1])\n",
    "    \n",
    "    # Alter input to [samples, timestep, features] for lstm, zero padding used to equalize timestep length\n",
    "    x_arr = pad_sequences(x, dtype='float32')\n",
    "    \n",
    "    # Convert y to format [samples, features]\n",
    "    y_arr = np.reshape(y, (-1, len(y[0])))\n",
    "\n",
    "    return x_arr, y_arr"
   ]
  },
  {
   "cell_type": "code",
   "execution_count": 29,
   "metadata": {},
   "outputs": [],
   "source": [
    "# Determine actual next event\n",
    "(df_training, df_validation) = naiveNextEventPredictor(df_training, df_validation)\n",
    "(df_training, df_test) = naiveNextEventPredictor(df_training, df_test)\n",
    "\n",
    "unique_training_events = df_training['event concept:name'].unique().reshape(-1, 1)\n",
    "\n",
    "# Define One-hot encoder for events\n",
    "onehot_encoder_event = OneHotEncoder(sparse=False, handle_unknown='ignore')\n",
    "onehot_encoder_event = onehot_encoder_event.fit(unique_training_events)\n",
    "\n",
    "# see function comment for format\n",
    "core_features = ['case concept:name', 'event concept:name', 'actual_next_event']\n",
    "\n",
    "# Example with unix_reg_time as extra features\n",
    "extra_features = ['event lifecycle:transition']\n",
    "\n",
    "# now determining which feature of the extra features needs to be normalised becomes possible by inspecting the index of scalers list\n",
    "encoder_scaler = [onehot_encoder_event] + [0]*len(extra_features)\n",
    "\n",
    "# Instatiate scalers for features consisting out of the type float or int or encoder for categorical featurees\n",
    "for idx, extra_feature in enumerate(extra_features):\n",
    "    if len(df_training[extra_feature].unique()) < 20:\n",
    "        encoder = OneHotEncoder(sparse=False, handle_unknown='ignore')\n",
    "        arr_to_be_encoded = df_training[extra_feature].to_numpy().reshape(-1, 1)\n",
    "        encoder = encoder.fit(arr_to_be_encoded)\n",
    "        encoder_scaler[idx + 1] = encoder\n",
    "    else:\n",
    "        scaler = MinMaxScaler(feature_range=(0,1))\n",
    "        arr_to_be_normalied = df_training[extra_feature].to_numpy().reshape(-1, 1)\n",
    "        scaler = scaler.fit(arr_to_be_normalied)\n",
    "        encoder_scaler[idx + 1] = scaler\n",
    "\n",
    "# window size as the mean of case length\n",
    "number_events_mean = df_training.groupby('case concept:name').count()['event concept:name'].mean()\n",
    "number_events_mean = ceil(number_events_mean)\n",
    "\n",
    "x_train, y_train = eventInputLstm(df_training, core_features, extra_features, encoder_scaler, number_events_mean)\n",
    "x_val, y_val = eventInputLstm(df_validation, core_features, extra_features, encoder_scaler, number_events_mean)\n",
    "x_test, y_test = eventInputLstm(df_training, core_features, extra_features, encoder_scaler, number_events_mean)"
   ]
  },
  {
   "cell_type": "code",
   "execution_count": 31,
   "metadata": {},
   "outputs": [
    {
     "data": {
      "text/plain": [
       "25"
      ]
     },
     "execution_count": 31,
     "metadata": {},
     "output_type": "execute_result"
    }
   ],
   "source": [
    "len(x_train[0][0])"
   ]
  },
  {
   "cell_type": "markdown",
   "metadata": {},
   "source": [
    "# Prepare input of LSTM for time prediction"
   ]
  },
  {
   "cell_type": "code",
   "execution_count": 10,
   "metadata": {},
   "outputs": [],
   "source": [
    "def timeInputLstm(df, core_features: list, extra_features: list, scaler_encoder: list, window_size: int):\n",
    "    '''\n",
    "    args:\n",
    "    df <class: 'pd.DataFrame'>: Dataframe of interest, filled with the features of arguments.\n",
    "    core_features <class: 'list'>: Column names of the core features in format of [case id, current event, time to next event].\n",
    "    extra_features <class: 'list'>: Extra features that the user wishes to train on, can be given in any sequences.\n",
    "    scaler_encoder <class: 'list' of 'sklearn.preprocessing.MinMaxScaler' or klearn.preprocessing.OneHotEncoder>: \n",
    "    Trained scaler or encoder associated with the input features by their index that is used to normalise float or int features and encode categorical features.\n",
    "    window_size <class: 'int'>: Window size of lstm input.\n",
    "    \n",
    "    returns:\n",
    "    x_arr <'np.array'>: LSTM input in format [samples, timestep, features].\n",
    "    y_arr <'np.array'>: LSTM input in format [samples, features].\n",
    "    '''\n",
    "    # See function comment for format\n",
    "    case_id_col = core_features[0]\n",
    "    event_id_col = core_features[1]\n",
    "    y_output_col = core_features[2]\n",
    "    \n",
    "    scaler_encoder_copy = scaler_encoder.copy()\n",
    "    \n",
    "    encoder_events = scaler_encoder_copy.pop(0)\n",
    "\n",
    "    time_to_next_scaler = scaler_encoder_copy.pop(0)\n",
    "    \n",
    "    # Prevent modifying argument\n",
    "    relevant_columns = core_features.copy()\n",
    "    relevant_columns.extend(extra_features)\n",
    "    \n",
    "    try:\n",
    "        df_relevant = df[relevant_columns].copy()\n",
    "    except:\n",
    "        print('Please input valid features.')\n",
    "\n",
    "    # One-hot encode current event\n",
    "    current_event = df_relevant[event_id_col].to_numpy().reshape(-1, 1)\n",
    "    df_relevant[event_id_col] = encoder_events.transform(current_event).tolist()\n",
    "\n",
    "    # Normalise time to next event.\n",
    "    time_to_next_event = df_relevant[y_output_col].to_numpy().reshape(-1, 1)\n",
    "    df_relevant[y_output_col] = time_to_next_scaler.transform(time_to_next_event)\n",
    "    \n",
    "    for idx, scaler_encoder in enumerate(scaler_encoder_copy):\n",
    "            to_be_normalised_or_encoded = df_relevant[extra_features[idx]].to_numpy().reshape(-1, 1)\n",
    "            df_relevant[extra_features[idx]] = scaler_encoder.transform(to_be_normalised_or_encoded)\n",
    "\n",
    "    # Prepare input and output in form of [samples, features]\n",
    "    x = []\n",
    "    y = []\n",
    "\n",
    "    # Get groupby object df by case id\n",
    "    df_groupby_case_id = df_relevant.groupby(case_id_col)\n",
    "\n",
    "    # Unique case ids\n",
    "    unique_case_ids = df_relevant[case_id_col].unique().tolist()\n",
    "    \n",
    "    # Remove case id out of relevant columns\n",
    "    del relevant_columns[0]\n",
    "\n",
    "    # Find input and output vector in form of [samples, features]\n",
    "    for unique_id in unique_case_ids:\n",
    "        xy_unique_id = df_groupby_case_id.get_group(unique_id)[relevant_columns].values.tolist()\n",
    "        sequence_x_unique_id = []\n",
    "\n",
    "        # event[0] = current event, event[1] = actual time to next event, event[2] = first selected feature, event[3] = second selected feature,...\n",
    "        for event in xy_unique_id:\n",
    "            if len(sequence_x_unique_id) == number_events_mean:\n",
    "                del sequence_x_unique_id[0]\n",
    "\n",
    "            event_memory = event[0].copy()\n",
    "            event_memory.extend(event[2:])\n",
    "            sequence_x_unique_id.append(event_memory.copy())\n",
    "            x.append(sequence_x_unique_id.copy())\n",
    "            y.append(event[1])\n",
    "    \n",
    "    # Alter input to [samples, timestep, features] for lstm, zero padding used to equalize timestep length\n",
    "    x_arr = pad_sequences(x, dtype='float32')\n",
    "    \n",
    "    # Convert y to format [samples, features]\n",
    "    y_arr = np.reshape(y, (-1, 1))\n",
    "\n",
    "    return x_arr, y_arr"
   ]
  },
  {
   "cell_type": "code",
   "execution_count": 17,
   "metadata": {},
   "outputs": [],
   "source": [
    "(df_training, df_validation) = naiveTimeToNextEventPredictor(df_training, df_validation)\n",
    "(df_training, df_test) = naiveTimeToNextEventPredictor(df_training, df_test)\n",
    "\n",
    "unique_training_events = df_training['event concept:name'].unique().reshape(-1, 1)\n",
    "\n",
    "# Define One-hot encoder for events\n",
    "onehot_encoder_event = OneHotEncoder(sparse=False, handle_unknown='ignore')\n",
    "onehot_encoder_event = onehot_encoder_event.fit(unique_training_events)\n",
    "\n",
    "def eventDay(dataSet):\n",
    "    dataSet[\"day\"] = pd.to_datetime(dataSet[\"event time:timestamp\"]).dt.day\n",
    "def eventStartHour(dataSet):\n",
    "    dataSet[\"hour\"] = pd.to_datetime(dataSet[\"event time:timestamp\"]).dt.hour\n",
    "    \n",
    "eventDay(df_training)\n",
    "eventStartHour(df_training)\n",
    "\n",
    "# Normalise time to next event.\n",
    "# Hard coded column can be replaced as argument\n",
    "time_to_next_scaler = MinMaxScaler(feature_range=(0,1))\n",
    "time_to_next_event = df_training['actual_time_to_next_event'].to_numpy().reshape(-1, 1)\n",
    "time_to_next_scaler = time_to_next_scaler.fit(time_to_next_event)\n",
    "\n",
    "# see function comment for format\n",
    "core_features = ['case concept:name', 'event concept:name', 'actual_time_to_next_event']\n",
    "\n",
    "# Example with unix_reg_time as extra features\n",
    "extra_features = ['event lifecycle:transition', 'day']\n",
    "\n",
    "# now determining which feature of the extra features needs to be normalised becomes possible by inspecting the index of scalers list\n",
    "encoder_scaler = [onehot_encoder_event, time_to_next_scaler] + [0]*len(extra_features)\n",
    "\n",
    "# Instatiate scalers for features consisting out of the type float or int or encoder for categorical featurees\n",
    "for idx, extra_feature in enumerate(extra_features):\n",
    "    if len(df_training[extra_feature].unique()) < 20:\n",
    "        encoder = OneHotEncoder(sparse=False, handle_unknown='ignore')\n",
    "        arr_to_be_encoded = df_training[extra_feature].to_numpy().reshape(-1, 1)\n",
    "        encoder = encoder.fit(arr_to_be_encoded)\n",
    "        encoder_scaler[idx + 2] = encoder\n",
    "    else:\n",
    "        scaler = MinMaxScaler(feature_range=(0,1))\n",
    "        arr_to_be_normalied = df_training[extra_feature].to_numpy().reshape(-1, 1)\n",
    "        scaler = scaler.fit(arr_to_be_normalied)\n",
    "        encoder_scaler[idx + 2] = scaler\n",
    "        \n",
    "# window size as the mean of case length\n",
    "number_events_mean = df_training.groupby('case concept:name').count()['event concept:name'].mean()\n",
    "number_events_mean = ceil(number_events_mean)\n",
    "\n",
    "x_train, y_train = timeInputLstm(df_training, core_features, extra_features, encoder_scaler, number_events_mean)"
   ]
  },
  {
   "cell_type": "code",
   "execution_count": 19,
   "metadata": {},
   "outputs": [
    {
     "data": {
      "text/plain": [
       "26"
      ]
     },
     "execution_count": 19,
     "metadata": {},
     "output_type": "execute_result"
    }
   ],
   "source": [
    "len(x_train[10][0])"
   ]
  },
  {
   "cell_type": "markdown",
   "metadata": {},
   "source": [
    "# LSTM for event prediction"
   ]
  },
  {
   "cell_type": "code",
   "execution_count": 22,
   "metadata": {},
   "outputs": [
    {
     "name": "stdout",
     "output_type": "stream",
     "text": [
      "The tensorboard extension is already loaded. To reload it, use:\n",
      "  %reload_ext tensorboard\n"
     ]
    }
   ],
   "source": [
    "# Load the TensorBoard notebook extension.\n",
    "%load_ext tensorboard\n",
    "\n",
    "import os\n",
    "import tensorflow as tf\n",
    "from tensorflow import keras\n",
    "\n",
    "CLASS_SIZE = unique_training_events.shape[0]\n",
    "\n",
    "def model_fn(labels_dim):\n",
    "    \"\"\"Create a Keras Sequential model with layers.\"\"\"\n",
    "    model = keras.models.Sequential()\n",
    "    model.add(keras.layers.LSTM(256, input_shape=(number_events_mean, unique_training_events.shape[0])))\n",
    "    model.add(keras.layers.Dropout(0.20))\n",
    "    model.add(keras.layers.Dense(labels_dim, activation='softmax'))\n",
    "    model.summary()\n",
    "    compile_model(model)\n",
    "    return model\n",
    "\n",
    "def compile_model(model):\n",
    "    model.compile(loss='categorical_crossentropy', \n",
    "                  optimizer='adam',\n",
    "                  metrics=['accuracy'])\n",
    "    return model\n",
    "\n",
    "def get_latest(checkpoint_dir, filetype='.h5', signature='cp', overwrite=False):\n",
    "    \"\"\" \n",
    "        This is a workaround as tf.train.latest_checkpoint does not seem to\n",
    "        work well on codalab. Give preference to that function when possible.\n",
    "\n",
    "        If overwrite is True, the latest checkpoint is reset to 0 and all \n",
    "        others are deleted.\n",
    "    \"\"\"\n",
    "    latest = None\n",
    "    latest_number = -1\n",
    "    for filename in os.listdir(checkpoint_dir):\n",
    "        reference, extension = os.path.splitext(filename)\n",
    "        if extension == filetype and reference.startswith('cp'):\n",
    "            number = int(re.sub(r\"\\D\", \"\", reference))\n",
    "            if number > latest_number:\n",
    "                latest = filename\n",
    "                latest_number = number\n",
    "            else:\n",
    "                if overwrite:\n",
    "                    os.remove(os.path.join(checkpoint_dir, filename))\n",
    "    if latest is None:\n",
    "        raise ValueError('No previous checkpoint found.')\n",
    "    if overwrite:\n",
    "        os.rename(os.path.join(checkpoint_dir, latest), os.path.join(checkpoint_dir, 'cp-0000.h5'))\n",
    "        latest = 'cp-0000.h5'\n",
    "        shutil.rmtree(os.path.join(checkpoint_dir, 'logs')) \n",
    "    return os.path.join(checkpoint_dir, latest)"
   ]
  },
  {
   "cell_type": "code",
   "execution_count": 23,
   "metadata": {},
   "outputs": [],
   "source": [
    "FILE_PATH=\"cp-{epoch:04d}.h5\"\n",
    "LSTM_MODEL = 'lstm.h5'\n",
    "\n",
    "def run(num_epochs=20,  # Maximum number of epochs on which to train\n",
    "        train_batch_size=128,  # Batch size for training steps\n",
    "        job_dir='jobdir', # Local dir to write checkpoints and export model\n",
    "        checkpoint_epochs='epoch',  #  Save checkpoint every epoch\n",
    "        load_previous_model=False):\n",
    "  \n",
    "    \"\"\" This function trains the model for a number of epochs and returns the \n",
    "        training history. The model is periodically saved for later use.\n",
    "\n",
    "        You can load a pre-trained model with \n",
    "            `model.load_weights(cp_path)`\n",
    "        where `model` is a keras object (e.g. as returned by `model_fn`) and \n",
    "        `cp_path` is the path for the checkpoint you want to load.\n",
    "        \n",
    "        Setting load_previous_model to True will load the latest checkpoint in\n",
    "        `job_dir` and continue training. That checkpoint is renamed cp-0000.h5,\n",
    "        while all logs and other checkpoints are deleted. Use with care!\n",
    "    \n",
    "    \"\"\"\n",
    "    \n",
    "    tf.keras.backend.clear_session()\n",
    "\n",
    "    try:\n",
    "        os.makedirs(job_dir)\n",
    "    except:\n",
    "        pass\n",
    "\n",
    "    checkpoint_path = FILE_PATH\n",
    "    checkpoint_path = os.path.join(job_dir, checkpoint_path)\n",
    "\n",
    "    lstm_model = model_fn(CLASS_SIZE)\n",
    "    if load_previous_model:\n",
    "        # Load the previously saved weights\n",
    "        latest = get_latest(job_dir, overwrite=True)\n",
    "        lstm.load_weights(latest)\n",
    "#         lstm_model.load_weights('jobdir\\cp-0000.h5')\n",
    "\n",
    "    # Model checkpoint callback\n",
    "    checkpoint = keras.callbacks.ModelCheckpoint(\n",
    "        checkpoint_path,\n",
    "        monitor='val_loss',\n",
    "        verbose=2,\n",
    "        save_freq=checkpoint_epochs,\n",
    "        mode='max')\n",
    "\n",
    "    # Tensorboard logs callback\n",
    "    tblog = keras.callbacks.TensorBoard(\n",
    "        log_dir=os.path.join(job_dir, 'logs'),\n",
    "        histogram_freq=0,\n",
    "        update_freq='epoch',\n",
    "        write_graph=True,\n",
    "        embeddings_freq=0)\n",
    "\n",
    "#     #implemented earlystopping\n",
    "#     callbacks = [checkpoint, tblog, keras.callbacks.EarlyStopping(monitor='val_accuracy', patience=6)]\n",
    "\n",
    "    callbacks = [checkpoint, tblog]\n",
    "\n",
    "    history = lstm_model.fit(\n",
    "              x=x_train,\n",
    "              y=y_train, \n",
    "              validation_data = (x_val, y_val),\n",
    "              batch_size=train_batch_size,\n",
    "              steps_per_epoch=None,\n",
    "              epochs=num_epochs,\n",
    "              callbacks=callbacks,\n",
    "              verbose=2)\n",
    "    \n",
    "    lstm_model.save(os.path.join(job_dir, LSTM_MODEL))\n",
    "\n",
    "    return history"
   ]
  },
  {
   "cell_type": "code",
   "execution_count": 24,
   "metadata": {},
   "outputs": [
    {
     "name": "stdout",
     "output_type": "stream",
     "text": [
      "Model: \"sequential\"\n",
      "_________________________________________________________________\n",
      "Layer (type)                 Output Shape              Param #   \n",
      "=================================================================\n",
      "lstm (LSTM)                  (None, 256)               287744    \n",
      "_________________________________________________________________\n",
      "dropout (Dropout)            (None, 256)               0         \n",
      "_________________________________________________________________\n",
      "dense (Dense)                (None, 24)                6168      \n",
      "=================================================================\n",
      "Total params: 293,912\n",
      "Trainable params: 293,912\n",
      "Non-trainable params: 0\n",
      "_________________________________________________________________\n",
      "Train on 193273 samples, validate on 21104 samples\n",
      "Epoch 1/20\n",
      "\n",
      "Epoch 00001: saving model to jobdir\\cp-0001.h5\n",
      "193273/193273 - 15s - loss: 0.7034 - accuracy: 0.7358 - val_loss: 0.4373 - val_accuracy: 0.7965\n",
      "Epoch 2/20\n",
      "\n",
      "Epoch 00002: saving model to jobdir\\cp-0002.h5\n",
      "193273/193273 - 11s - loss: 0.4648 - accuracy: 0.7902 - val_loss: 0.4050 - val_accuracy: 0.7970\n",
      "Epoch 3/20\n",
      "\n",
      "Epoch 00003: saving model to jobdir\\cp-0003.h5\n",
      "193273/193273 - 11s - loss: 0.4579 - accuracy: 0.7909 - val_loss: 0.4062 - val_accuracy: 0.8013\n",
      "Epoch 4/20\n",
      "\n",
      "Epoch 00004: saving model to jobdir\\cp-0004.h5\n",
      "193273/193273 - 12s - loss: 0.4597 - accuracy: 0.7890 - val_loss: 0.3934 - val_accuracy: 0.7974\n",
      "Epoch 5/20\n",
      "\n",
      "Epoch 00005: saving model to jobdir\\cp-0005.h5\n",
      "193273/193273 - 11s - loss: 0.4622 - accuracy: 0.7888 - val_loss: 0.4979 - val_accuracy: 0.7851\n",
      "Epoch 6/20\n",
      "\n",
      "Epoch 00006: saving model to jobdir\\cp-0006.h5\n",
      "193273/193273 - 11s - loss: 0.4642 - accuracy: 0.7885 - val_loss: 0.3896 - val_accuracy: 0.8013\n",
      "Epoch 7/20\n",
      "\n",
      "Epoch 00007: saving model to jobdir\\cp-0007.h5\n",
      "193273/193273 - 11s - loss: 0.4643 - accuracy: 0.7892 - val_loss: 0.3943 - val_accuracy: 0.8002\n",
      "Epoch 8/20\n",
      "\n",
      "Epoch 00008: saving model to jobdir\\cp-0008.h5\n",
      "193273/193273 - 11s - loss: 0.4725 - accuracy: 0.7879 - val_loss: 0.4011 - val_accuracy: 0.7990\n",
      "Epoch 9/20\n",
      "\n",
      "Epoch 00009: saving model to jobdir\\cp-0009.h5\n",
      "193273/193273 - 11s - loss: 0.4595 - accuracy: 0.7906 - val_loss: 0.3989 - val_accuracy: 0.8027\n",
      "Epoch 10/20\n",
      "\n",
      "Epoch 00010: saving model to jobdir\\cp-0010.h5\n",
      "193273/193273 - 11s - loss: 0.4726 - accuracy: 0.7886 - val_loss: 0.4079 - val_accuracy: 0.8014\n",
      "Epoch 11/20\n",
      "\n",
      "Epoch 00011: saving model to jobdir\\cp-0011.h5\n",
      "193273/193273 - 11s - loss: 0.4713 - accuracy: 0.7891 - val_loss: 0.4005 - val_accuracy: 0.7989\n",
      "Epoch 12/20\n",
      "\n",
      "Epoch 00012: saving model to jobdir\\cp-0012.h5\n",
      "193273/193273 - 12s - loss: 0.4669 - accuracy: 0.7894 - val_loss: 0.3935 - val_accuracy: 0.8019\n",
      "Epoch 13/20\n",
      "\n",
      "Epoch 00013: saving model to jobdir\\cp-0013.h5\n",
      "193273/193273 - 11s - loss: 0.4814 - accuracy: 0.7869 - val_loss: 0.3929 - val_accuracy: 0.7963\n",
      "Epoch 14/20\n",
      "\n",
      "Epoch 00014: saving model to jobdir\\cp-0014.h5\n",
      "193273/193273 - 11s - loss: 0.4891 - accuracy: 0.7854 - val_loss: 0.4025 - val_accuracy: 0.7997\n",
      "Epoch 15/20\n",
      "\n",
      "Epoch 00015: saving model to jobdir\\cp-0015.h5\n",
      "193273/193273 - 11s - loss: 0.4819 - accuracy: 0.7878 - val_loss: 0.4027 - val_accuracy: 0.7994\n",
      "Epoch 16/20\n",
      "\n",
      "Epoch 00016: saving model to jobdir\\cp-0016.h5\n",
      "193273/193273 - 11s - loss: 0.4770 - accuracy: 0.7887 - val_loss: 0.4037 - val_accuracy: 0.8009\n",
      "Epoch 17/20\n",
      "\n",
      "Epoch 00017: saving model to jobdir\\cp-0017.h5\n",
      "193273/193273 - 11s - loss: 0.4691 - accuracy: 0.7913 - val_loss: 0.3961 - val_accuracy: 0.8018\n",
      "Epoch 18/20\n",
      "\n",
      "Epoch 00018: saving model to jobdir\\cp-0018.h5\n",
      "193273/193273 - 11s - loss: 0.4718 - accuracy: 0.7900 - val_loss: 0.3924 - val_accuracy: 0.7977\n",
      "Epoch 19/20\n",
      "\n",
      "Epoch 00019: saving model to jobdir\\cp-0019.h5\n",
      "193273/193273 - 12s - loss: 0.4823 - accuracy: 0.7877 - val_loss: 0.4068 - val_accuracy: 0.8011\n",
      "Epoch 20/20\n",
      "\n",
      "Epoch 00020: saving model to jobdir\\cp-0020.h5\n",
      "193273/193273 - 12s - loss: 0.4890 - accuracy: 0.7877 - val_loss: 0.3933 - val_accuracy: 0.8022\n"
     ]
    }
   ],
   "source": [
    "history = run(load_previous_model=False)"
   ]
  },
  {
   "cell_type": "code",
   "execution_count": 25,
   "metadata": {},
   "outputs": [
    {
     "data": {
      "text/plain": [
       "<matplotlib.legend.Legend at 0x1ce11e80b08>"
      ]
     },
     "execution_count": 25,
     "metadata": {},
     "output_type": "execute_result"
    },
    {
     "data": {
      "image/png": "[encoded data removed]",
      "text/plain": [
       "<Figure size 432x288 with 1 Axes>"
      ]
     },
     "metadata": {
      "needs_background": "light"
     },
     "output_type": "display_data"
    }
   ],
   "source": [
    "import matplotlib.pyplot as plt\n",
    "\n",
    "# Plot history\n",
    "plt.plot(history.history['accuracy'], label='accuracy')\n",
    "plt.plot(history.history['val_accuracy'], label = 'val_accuracy')\n",
    "plt.xlabel('Epoch')\n",
    "plt.ylabel('Accuracy')\n",
    "plt.legend(loc='lower right')"
   ]
  },
  {
   "cell_type": "code",
   "execution_count": 26,
   "metadata": {},
   "outputs": [
    {
     "data": {
      "text/plain": [
       "<matplotlib.legend.Legend at 0x1ce16c48548>"
      ]
     },
     "execution_count": 26,
     "metadata": {},
     "output_type": "execute_result"
    },
    {
     "data": {
      "image/png": "[encoded data removed]",
      "text/plain": [
       "<Figure size 432x288 with 1 Axes>"
      ]
     },
     "metadata": {
      "needs_background": "light"
     },
     "output_type": "display_data"
    }
   ],
   "source": [
    "# Plot history\n",
    "plt.plot(history.history['loss'], label='loss')\n",
    "plt.plot(history.history['val_loss'], label = 'val_loss')\n",
    "plt.xlabel('Epoch')\n",
    "plt.ylabel('loss')\n",
    "plt.legend(loc='lower right')"
   ]
  },
  {
   "cell_type": "code",
   "execution_count": null,
   "metadata": {},
   "outputs": [],
   "source": [
    "# Or visualise using Tensorboard\n",
    "%tensorboard --logdir jobdir/logs"
   ]
  },
  {
   "cell_type": "code",
   "execution_count": 1,
   "metadata": {},
   "outputs": [
    {
     "name": "stdout",
     "output_type": "stream",
     "text": [
      "Note: you may need to restart the kernel to use updated packages.\n"
     ]
    }
   ],
   "source": [
    "pip freeze > requirements"
   ]
  },
  {
   "cell_type": "code",
   "execution_count": null,
   "metadata": {},
   "outputs": [],
   "source": []
  }
 ],
 "metadata": {
  "kernelspec": {
   "display_name": "Python 3",
   "language": "python",
   "name": "python3"
  },
  "language_info": {
   "codemirror_mode": {
    "name": "ipython",
    "version": 3
   },
   "file_extension": ".py",
   "mimetype": "text/x-python",
   "name": "python",
   "nbconvert_exporter": "python",
   "pygments_lexer": "ipython3",
   "version": "3.7.6-final"
  }
 },
 "nbformat": 4,
 "nbformat_minor": 4
}