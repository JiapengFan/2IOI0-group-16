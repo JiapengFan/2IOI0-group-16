{
 "cells": [
  {
   "cell_type": "code",
   "execution_count": 3,
   "metadata": {},
   "outputs": [],
   "source": [
    "import pandas as pd\n",
    "from training.predictionAlgo import naiveNextEventPredictor\n",
    "from preprocessing.dataParsing import parseData\n",
    "from preprocessing.dataSplitting import dataSplitter\n",
    "\n",
    "# Convert csv into dataframe\n",
    "df_training_raw = pd.read_csv('.\\data\\BPI2012Training.csv')\n",
    "df_test_raw = pd.read_csv('.\\data\\BPI2012Test.csv')\n",
    "\n",
    "# Parsing data\n",
    "(df_training, df_2012_last_event_per_case_train) = parseData(df_training_raw)\n",
    "(df_test, df_2012_last_event_per_case_test) = parseData(df_test_raw)\n",
    "\n",
    "# Clean and split the data into train, validation & test data\n",
    "(df_training, df_validation, df_test) = dataSplitter(df_training, df_test)"
   ]
  },
  {
   "cell_type": "code",
   "execution_count": 30,
   "metadata": {},
   "outputs": [
    {
     "ename": "ImportError",
     "evalue": "cannot import name 'fitOnehot' from 'preprocessing.onehotEncoding' (C:\\Users\\Windows10\\Documents\\GitHub\\2IOI0-group-16\\preprocessing\\onehotEncoding.py)",
     "output_type": "error",
     "traceback": [
      "\u001b[1;31m---------------------------------------------------------------------------\u001b[0m",
      "\u001b[1;31mImportError\u001b[0m                               Traceback (most recent call last)",
      "\u001b[1;32m<ipython-input-30-537cc83f59f7>\u001b[0m in \u001b[0;36m<module>\u001b[1;34m\u001b[0m\n\u001b[1;32m----> 1\u001b[1;33m \u001b[1;32mfrom\u001b[0m \u001b[0mpreprocessing\u001b[0m\u001b[1;33m.\u001b[0m\u001b[0monehotEncoding\u001b[0m \u001b[1;32mimport\u001b[0m \u001b[0mfitOnehot\u001b[0m\u001b[1;33m,\u001b[0m \u001b[0mconvertToOnehot\u001b[0m\u001b[1;33m,\u001b[0m \u001b[0mconvertToEvent\u001b[0m\u001b[1;33m\u001b[0m\u001b[1;33m\u001b[0m\u001b[0m\n\u001b[0m\u001b[0;32m      2\u001b[0m \u001b[1;33m\u001b[0m\u001b[0m\n\u001b[0;32m      3\u001b[0m \u001b[1;31m# Define One-hot encoder\u001b[0m\u001b[1;33m\u001b[0m\u001b[1;33m\u001b[0m\u001b[1;33m\u001b[0m\u001b[0m\n\u001b[0;32m      4\u001b[0m \u001b[0munique_training_events\u001b[0m \u001b[1;33m=\u001b[0m \u001b[0mdf_training\u001b[0m\u001b[1;33m[\u001b[0m\u001b[1;34m'event concept:name'\u001b[0m\u001b[1;33m]\u001b[0m\u001b[1;33m.\u001b[0m\u001b[0munique\u001b[0m\u001b[1;33m(\u001b[0m\u001b[1;33m)\u001b[0m\u001b[1;33m\u001b[0m\u001b[1;33m\u001b[0m\u001b[0m\n\u001b[0;32m      5\u001b[0m \u001b[0monehot_encoder\u001b[0m \u001b[1;33m=\u001b[0m \u001b[0mfitOnehot\u001b[0m\u001b[1;33m(\u001b[0m\u001b[0munique_training_events\u001b[0m\u001b[1;33m)\u001b[0m\u001b[1;33m\u001b[0m\u001b[1;33m\u001b[0m\u001b[0m\n",
      "\u001b[1;31mImportError\u001b[0m: cannot import name 'fitOnehot' from 'preprocessing.onehotEncoding' (C:\\Users\\Windows10\\Documents\\GitHub\\2IOI0-group-16\\preprocessing\\onehotEncoding.py)"
     ]
    }
   ],
   "source": [
    "from preprocessing.onehotEncoding import fitOnehot, convertToOnehot, convertToEvent\n",
    "\n",
    "# Define One-hot encoder\n",
    "unique_training_events = df_training['event concept:name'].unique()\n",
    "onehot_encoder = fitOnehot(unique_training_events)\n",
    "\n",
    "# Fetch actual next event\n",
    "(df_training, df_validation) = naiveNextEventPredictor(df_training, df_validation)\n",
    "\n",
    "train_onehot_encoded_current_event = convertToOnehot(df_training['event concept:name'].tolist(), onehot_encoder)\n",
    "train_onehot_encoded_current_event\n",
    "# print(onehot_encoded_events[:2, :])\n",
    "# convertToEvent(onehot_encoded_events[:2, :], onehot_encoder)"
   ]
  },
  {
   "cell_type": "code",
   "execution_count": null,
   "metadata": {},
   "outputs": [],
   "source": []
  },
  {
   "cell_type": "code",
   "execution_count": null,
   "metadata": {},
   "outputs": [],
   "source": []
  }
 ],
 "metadata": {
  "kernelspec": {
   "display_name": "Python 3",
   "language": "python",
   "name": "python3"
  },
  "language_info": {
   "codemirror_mode": {
    "name": "ipython",
    "version": 3
   },
   "file_extension": ".py",
   "mimetype": "text/x-python",
   "name": "python",
   "nbconvert_exporter": "python",
   "pygments_lexer": "ipython3",
   "version": "3.7.9"
  }
 },
 "nbformat": 4,
 "nbformat_minor": 4
}
